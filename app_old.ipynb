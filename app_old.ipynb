{
 "cells": [
  {
   "cell_type": "markdown",
   "metadata": {},
   "source": [
    "## Gripe"
   ]
  },
  {
   "cell_type": "code",
   "execution_count": 81,
   "metadata": {},
   "outputs": [],
   "source": [
    "import pandas as pd\n",
    "from sklearn.preprocessing import StandardScaler\n",
    "from sklearn.model_selection import train_test_split\n",
    "from sklearn.neighbors import KNeighborsClassifier\n",
    "from sklearn.neural_network import MLPClassifier\n",
    "from sklearn.ensemble import VotingClassifier\n",
    "from sklearn.metrics import accuracy_score, f1_score, confusion_matrix\n",
    "import ipywidgets as widgets\n",
    "from IPython.display import display\n",
    "import numpy as np\n",
    "import pickle\n",
    "import os\n"
   ]
  },
  {
   "cell_type": "code",
   "execution_count": 82,
   "metadata": {},
   "outputs": [],
   "source": [
    "def carregar_dados():\n",
    "    dados_2021 = pd.read_csv('dados/gripe_2021.csv', sep=';', encoding='ISO-8859-1')\n",
    "    dados_2022 = pd.read_csv('dados/gripe_2022.csv', sep=';', encoding='ISO-8859-1')\n",
    "    dados_2023 = pd.read_csv('dados/gripe_2023.csv', sep=';', encoding='ISO-8859-1')\n",
    "    dados = pd.concat([dados_2021, dados_2022, dados_2023])\n",
    "    return dados"
   ]
  },
  {
   "cell_type": "code",
   "execution_count": null,
   "metadata": {},
   "outputs": [],
   "source": [
    "def carregar_dados_municipios():\n",
    "    # Ajuste o caminho do arquivo conforme necessário.\n",
    "    caminho_arquivo = 'dados/cod_municipios.csv'\n",
    "    dados_municipios = pd.read_csv(caminho_arquivo, sep=';', encoding='ISO-8859-1')\n",
    "    # Remova colunas e linhas desnecessárias se existirem.\n",
    "    dados_municipios = dados_municipios[['UF', 'Nome_UF', 'Nome_Mesorregião', 'Nome_Microrregião', 'Código Município Completo', 'Nome_Município']]\n",
    "    return dados_municipios"
   ]
  },
  {
   "cell_type": "code",
   "execution_count": 83,
   "metadata": {},
   "outputs": [],
   "source": [
    "def tratar_dados(dados):\n",
    "    dados['DT_NOTIFIC'] = pd.to_datetime(dados['DT_NOTIFIC'], format='%d/%m/%Y')\n",
    "    dados['DT_NASC'] = pd.to_datetime(dados['DT_NASC'], format='%d/%m/%Y', errors='coerce')\n",
    "    dados['ANO'] = dados['DT_NOTIFIC'].dt.year\n",
    "    dados['MES'] = dados['DT_NOTIFIC'].dt.month\n",
    "    dados = pd.get_dummies(dados, columns=['SG_UF_NOT', 'CS_SEXO', 'CS_GESTANT', 'CS_RACA'])\n",
    "    dados = dados.dropna(subset=['CO_REGIONA', 'DT_NASC'])\n",
    "    return dados"
   ]
  },
  {
   "cell_type": "code",
   "execution_count": 84,
   "metadata": {},
   "outputs": [],
   "source": [
    "def preparar_previsores_alvo(dados):\n",
    "    dados_agregados = dados.groupby(['ANO', 'MES', 'CO_REGIONA']).size().reset_index(name='CASOS')\n",
    "    previsores = dados_agregados.drop('CASOS', axis=1)\n",
    "    alvo = dados_agregados['CASOS']\n",
    "    return previsores, alvo"
   ]
  },
  {
   "cell_type": "code",
   "execution_count": 85,
   "metadata": {},
   "outputs": [],
   "source": [
    "def escalonar_previsores(previsores):\n",
    "    scaler = StandardScaler()\n",
    "    previsores_escalados = scaler.fit_transform(previsores)\n",
    "    return previsores_escalados"
   ]
  },
  {
   "cell_type": "code",
   "execution_count": 86,
   "metadata": {},
   "outputs": [],
   "source": [
    "def dividir_treino_teste(previsores, alvo):\n",
    "    X_train, X_test, y_train, y_test = train_test_split(previsores, alvo, test_size=0.3, random_state=42)\n",
    "    return X_train, X_test, y_train, y_test"
   ]
  },
  {
   "cell_type": "code",
   "execution_count": 87,
   "metadata": {},
   "outputs": [],
   "source": [
    "def treinar_modelos(X_train, y_train):\n",
    "    modelos = {\n",
    "        'KNN': KNeighborsClassifier(),\n",
    "        'MLP': MLPClassifier(max_iter=50) \n",
    "    }\n",
    "\n",
    "    for nome, modelo in modelos.items():\n",
    "        modelo.fit(X_train, y_train)\n",
    "        # Salvando cada modelo\n",
    "        modelo_arquivo = f'./modelos/{nome}.pickle'\n",
    "        with open(modelo_arquivo, 'wb') as f:\n",
    "            pickle.dump(modelo, f)\n",
    "    \n",
    "    return modelos\n"
   ]
  },
  {
   "cell_type": "code",
   "execution_count": 88,
   "metadata": {},
   "outputs": [],
   "source": [
    "def criar_modelo_hibrido(X_train, y_train):\n",
    "    # Carregar modelos treinados\n",
    "    modelos = treinar_modelos(X_train, y_train)\n",
    "    modelos_carregados = {nome: pickle.load(open(f'./modelos/{nome}.pickle', 'rb')) for nome in modelos}\n",
    "\n",
    "    voting_clf = VotingClassifier(estimators=[(nome, modelo) for nome, modelo in modelos_carregados.items()], voting='soft')\n",
    "    voting_clf.fit(X_train, y_train)\n",
    "\n",
    "    # Salvando o modelo híbrido\n",
    "    modelo_hibrido_arquivo = './modelos/ModeloHibrido.pickle'\n",
    "    with open(modelo_hibrido_arquivo, 'wb') as f:\n",
    "        pickle.dump(voting_clf, f)\n",
    "    \n",
    "    return voting_clf\n"
   ]
  },
  {
   "cell_type": "code",
   "execution_count": 89,
   "metadata": {},
   "outputs": [],
   "source": [
    "def avaliar_modelos(X_test, y_test, modelos):\n",
    "    for nome, modelo_arquivo in modelos.items():\n",
    "        modelo = pickle.load(open(f'./modelos/{nome}.pickle', 'rb'))\n",
    "        predicoes = modelo.predict(X_test)\n",
    "        acuracia = accuracy_score(y_test, predicoes)\n",
    "        f1 = f1_score(y_test, predicoes, average='macro')\n",
    "        print(f'{nome} - Acurácia: {acuracia}, F1 Score: {f1}')\n"
   ]
  },
  {
   "cell_type": "code",
   "execution_count": 90,
   "metadata": {},
   "outputs": [],
   "source": [
    "def interface_interativa(dados):\n",
    "    ano_widget = widgets.IntSlider(value=2024, min=dados['ANO'].min(), max=dados['ANO'].max(), step=1, description='Ano:')\n",
    "    mes_widget = widgets.Dropdown(options=list(range(1, 13)), value=2, description='Mês:')\n",
    "    regiao_widget = widgets.Dropdown(options=sorted(dados['CO_REGIONA'].unique()), description='Região:')\n",
    "    modelo_widget = widgets.Dropdown(options=os.listdir('./modelos'), description='Modelo:')\n",
    "    \n",
    "    display(ano_widget, mes_widget, regiao_widget, modelo_widget)\n",
    "\n",
    "    def realizar_predicoes(b):\n",
    "        modelo_selecionado = modelo_widget.value\n",
    "        caminho_modelo = os.path.join('./modelos', modelo_selecionado)\n",
    "        modelo = pickle.load(open(caminho_modelo, 'rb'))\n",
    "        \n",
    "        entrada_predicao = pd.DataFrame({'ANO': [ano_widget.value], 'MES': [mes_widget.value], 'CO_REGIONA': [regiao_widget.value]})\n",
    "        predicao = modelo.predict(entrada_predicao)\n",
    "        \n",
    "        with output_area:\n",
    "            output_area.clear_output()\n",
    "            print(f\"Predição para a região {regiao_widget.value} no mês {mes_widget.value} de {ano_widget.value}: {predicao[0]}\")\n",
    "    \n",
    "    predicao_botao = widgets.Button(description=\"Realizar Predição\")\n",
    "    output_area = widgets.Output()\n",
    "    predicao_botao.on_click(realizar_predicoes)\n",
    "    display(predicao_botao, output_area)"
   ]
  },
  {
   "cell_type": "code",
   "execution_count": 91,
   "metadata": {},
   "outputs": [
    {
     "name": "stderr",
     "output_type": "stream",
     "text": [
      "/var/folders/z3/2x5_0s3j31zdf3c9g85v3rbc0000gn/T/ipykernel_21832/1863773529.py:2: DtypeWarning: Columns (15,59,61,62,63,91,93,105,107,114,116,117,118,122,143) have mixed types. Specify dtype option on import or set low_memory=False.\n",
      "  dados_2021 = pd.read_csv('dados/gripe_2021.csv', sep=';', encoding='ISO-8859-1')\n",
      "/var/folders/z3/2x5_0s3j31zdf3c9g85v3rbc0000gn/T/ipykernel_21832/1863773529.py:3: DtypeWarning: Columns (15,53,59,61,62,63,91,93,120,122,143,171) have mixed types. Specify dtype option on import or set low_memory=False.\n",
      "  dados_2022 = pd.read_csv('dados/gripe_2022.csv', sep=';', encoding='ISO-8859-1')\n",
      "/var/folders/z3/2x5_0s3j31zdf3c9g85v3rbc0000gn/T/ipykernel_21832/1863773529.py:4: DtypeWarning: Columns (15,18,20,23,53,59,61,63,72,74,79,91,93,109,130,175,178) have mixed types. Specify dtype option on import or set low_memory=False.\n",
      "  dados_2023 = pd.read_csv('dados/gripe_2023.csv', sep=';', encoding='ISO-8859-1')\n",
      "/var/folders/z3/2x5_0s3j31zdf3c9g85v3rbc0000gn/T/ipykernel_21832/2870099714.py:4: PerformanceWarning: DataFrame is highly fragmented.  This is usually the result of calling `frame.insert` many times, which has poor performance.  Consider joining all columns at once using pd.concat(axis=1) instead. To get a de-fragmented frame, use `newframe = frame.copy()`\n",
      "  dados['ANO'] = dados['DT_NOTIFIC'].dt.year\n",
      "/var/folders/z3/2x5_0s3j31zdf3c9g85v3rbc0000gn/T/ipykernel_21832/2870099714.py:5: PerformanceWarning: DataFrame is highly fragmented.  This is usually the result of calling `frame.insert` many times, which has poor performance.  Consider joining all columns at once using pd.concat(axis=1) instead. To get a de-fragmented frame, use `newframe = frame.copy()`\n",
      "  dados['MES'] = dados['DT_NOTIFIC'].dt.month\n",
      "/Users/rafaelmunareto/anaconda3/lib/python3.10/site-packages/sklearn/neural_network/_multilayer_perceptron.py:684: ConvergenceWarning: Stochastic Optimizer: Maximum iterations (50) reached and the optimization hasn't converged yet.\n",
      "  warnings.warn(\n",
      "/Users/rafaelmunareto/anaconda3/lib/python3.10/site-packages/sklearn/neural_network/_multilayer_perceptron.py:684: ConvergenceWarning: Stochastic Optimizer: Maximum iterations (50) reached and the optimization hasn't converged yet.\n",
      "  warnings.warn(\n",
      "/Users/rafaelmunareto/anaconda3/lib/python3.10/site-packages/sklearn/neural_network/_multilayer_perceptron.py:684: ConvergenceWarning: Stochastic Optimizer: Maximum iterations (50) reached and the optimization hasn't converged yet.\n",
      "  warnings.warn(\n"
     ]
    },
    {
     "name": "stdout",
     "output_type": "stream",
     "text": [
      "KNN - Acurácia: 0.036303630363036306, F1 Score: 0.0009935482511446954\n",
      "MLP - Acurácia: 0.04026402640264026, F1 Score: 0.00031725885206889017\n"
     ]
    },
    {
     "data": {
      "application/vnd.jupyter.widget-view+json": {
       "model_id": "b59b3cd17441428dbeb2446ef67791a8",
       "version_major": 2,
       "version_minor": 0
      },
      "text/plain": [
       "IntSlider(value=2024, description='Ano:', max=2024, min=2021)"
      ]
     },
     "metadata": {},
     "output_type": "display_data"
    },
    {
     "data": {
      "application/vnd.jupyter.widget-view+json": {
       "model_id": "aa5aa7c7bff248b68180b356066b0865",
       "version_major": 2,
       "version_minor": 0
      },
      "text/plain": [
       "Dropdown(description='Mês:', index=1, options=(1, 2, 3, 4, 5, 6, 7, 8, 9, 10, 11, 12), value=2)"
      ]
     },
     "metadata": {},
     "output_type": "display_data"
    },
    {
     "data": {
      "application/vnd.jupyter.widget-view+json": {
       "model_id": "d515ceb2127e46e68ec75c6f3df5bca8",
       "version_major": 2,
       "version_minor": 0
      },
      "text/plain": [
       "Dropdown(description='Região:', options=(1331.0, 1332.0, 1333.0, 1334.0, 1335.0, 1336.0, 1337.0, 1338.0, 1339.…"
      ]
     },
     "metadata": {},
     "output_type": "display_data"
    },
    {
     "data": {
      "application/vnd.jupyter.widget-view+json": {
       "model_id": "c8c1d7fd671d46918eaa6e2144abd078",
       "version_major": 2,
       "version_minor": 0
      },
      "text/plain": [
       "Dropdown(description='Modelo:', options=('ModeloHibrido.pickle', 'RandomForest.pickle', 'KNN.pickle', 'MLP.pic…"
      ]
     },
     "metadata": {},
     "output_type": "display_data"
    },
    {
     "data": {
      "application/vnd.jupyter.widget-view+json": {
       "model_id": "407d2028900c46e4aedd102b44ddf448",
       "version_major": 2,
       "version_minor": 0
      },
      "text/plain": [
       "Button(description='Realizar Predição', style=ButtonStyle())"
      ]
     },
     "metadata": {},
     "output_type": "display_data"
    },
    {
     "data": {
      "application/vnd.jupyter.widget-view+json": {
       "model_id": "d75e007cce7d494d807dd2e62a3f1398",
       "version_major": 2,
       "version_minor": 0
      },
      "text/plain": [
       "Output()"
      ]
     },
     "metadata": {},
     "output_type": "display_data"
    },
    {
     "name": "stderr",
     "output_type": "stream",
     "text": [
      "/Users/rafaelmunareto/anaconda3/lib/python3.10/site-packages/sklearn/base.py:413: UserWarning: X has feature names, but KNeighborsClassifier was fitted without feature names\n",
      "  warnings.warn(\n",
      "/Users/rafaelmunareto/anaconda3/lib/python3.10/site-packages/sklearn/base.py:413: UserWarning: X has feature names, but KNeighborsClassifier was fitted without feature names\n",
      "  warnings.warn(\n",
      "/Users/rafaelmunareto/anaconda3/lib/python3.10/site-packages/sklearn/base.py:413: UserWarning: X has feature names, but KNeighborsClassifier was fitted without feature names\n",
      "  warnings.warn(\n"
     ]
    }
   ],
   "source": [
    "dados = carregar_dados()\n",
    "dados_tratados = tratar_dados(dados)\n",
    "previsores, alvo = preparar_previsores_alvo(dados_tratados)\n",
    "previsores_escalados = escalonar_previsores(previsores)\n",
    "X_train, X_test, y_train, y_test = dividir_treino_teste(previsores_escalados, alvo)\n",
    "modelos = treinar_modelos(X_train, y_train)\n",
    "modelo_hibrido = criar_modelo_hibrido(X_train, y_train)\n",
    "avaliar_modelos(X_test, y_test, modelos)\n",
    "interface_interativa(dados_tratados)"
   ]
  }
 ],
 "metadata": {
  "kernelspec": {
   "display_name": "Python 3",
   "language": "python",
   "name": "python3"
  },
  "language_info": {
   "codemirror_mode": {
    "name": "ipython",
    "version": 3
   },
   "file_extension": ".py",
   "mimetype": "text/x-python",
   "name": "python",
   "nbconvert_exporter": "python",
   "pygments_lexer": "ipython3",
   "version": "3.10.9"
  }
 },
 "nbformat": 4,
 "nbformat_minor": 2
}
