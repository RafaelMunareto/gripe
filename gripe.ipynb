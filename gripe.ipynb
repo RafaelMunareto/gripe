{
 "cells": [
  {
   "cell_type": "code",
   "execution_count": 81,
   "metadata": {},
   "outputs": [],
   "source": [
    "import pandas as pd\n",
    "from sklearn.preprocessing import StandardScaler\n",
    "from sklearn.model_selection import train_test_split\n",
    "from sklearn.neighbors import KNeighborsClassifier\n",
    "from sklearn.neural_network import MLPClassifier\n",
    "from sklearn.ensemble import VotingClassifier\n",
    "from sklearn.metrics import accuracy_score, f1_score, confusion_matrix\n",
    "import ipywidgets as widgets\n",
    "from IPython.display import display\n",
    "import numpy as np\n",
    "import pickle\n",
    "import os\n"
   ]
  },
  {
   "cell_type": "code",
   "execution_count": 82,
   "metadata": {},
   "outputs": [],
   "source": [
    "def carregar_dados():\n",
    "    dados_2021 = pd.read_csv('dados/gripe_2021.csv', sep=';', encoding='ISO-8859-1')\n",
    "    dados_2022 = pd.read_csv('dados/gripe_2022.csv', sep=';', encoding='ISO-8859-1')\n",
    "    dados_2023 = pd.read_csv('dados/gripe_2023.csv', sep=';', encoding='ISO-8859-1')\n",
    "    dados = pd.concat([dados_2021, dados_2022, dados_2023])\n",
    "    return dados"
   ]
  },
  {
   "cell_type": "code",
   "execution_count": 83,
   "metadata": {},
   "outputs": [],
   "source": [
    "def tratar_dados(dados):\n",
    "    dados['DT_NOTIFIC'] = pd.to_datetime(dados['DT_NOTIFIC'], format='%d/%m/%Y')\n",
    "    dados['DT_NASC'] = pd.to_datetime(dados['DT_NASC'], format='%d/%m/%Y', errors='coerce')\n",
    "    dados['ANO'] = dados['DT_NOTIFIC'].dt.year\n",
    "    dados['MES'] = dados['DT_NOTIFIC'].dt.month\n",
    "    dados = pd.get_dummies(dados, columns=['SG_UF_NOT', 'CS_SEXO', 'CS_GESTANT', 'CS_RACA'])\n",
    "    dados = dados.dropna(subset=['CO_REGIONA', 'DT_NASC'])\n",
    "    return dados"
   ]
  },
  {
   "cell_type": "code",
   "execution_count": 84,
   "metadata": {},
   "outputs": [],
   "source": [
    "def preparar_previsores_alvo(dados):\n",
    "    dados_agregados = dados.groupby(['ANO', 'MES', 'CO_REGIONA']).size().reset_index(name='CASOS')\n",
    "    previsores = dados_agregados.drop('CASOS', axis=1)\n",
    "    alvo = dados_agregados['CASOS']\n",
    "    return previsores, alvo"
   ]
  },
  {
   "cell_type": "code",
   "execution_count": 85,
   "metadata": {},
   "outputs": [],
   "source": [
    "def escalonar_previsores(previsores):\n",
    "    scaler = StandardScaler()\n",
    "    previsores_escalados = scaler.fit_transform(previsores)\n",
    "    return previsores_escalados"
   ]
  },
  {
   "cell_type": "code",
   "execution_count": 86,
   "metadata": {},
   "outputs": [],
   "source": [
    "def dividir_treino_teste(previsores, alvo):\n",
    "    X_train, X_test, y_train, y_test = train_test_split(previsores, alvo, test_size=0.3, random_state=42)\n",
    "    return X_train, X_test, y_train, y_test"
   ]
  },
  {
   "cell_type": "code",
   "execution_count": 87,
   "metadata": {},
   "outputs": [],
   "source": [
    "def treinar_modelos(X_train, y_train):\n",
    "    modelos = {\n",
    "        'KNN': KNeighborsClassifier(),\n",
    "        'MLP': MLPClassifier(max_iter=50) \n",
    "    }\n",
    "\n",
    "    for nome, modelo in modelos.items():\n",
    "        modelo.fit(X_train, y_train)\n",
    "        # Salvando cada modelo\n",
    "        modelo_arquivo = f'./modelos/{nome}.pickle'\n",
    "        with open(modelo_arquivo, 'wb') as f:\n",
    "            pickle.dump(modelo, f)\n",
    "    \n",
    "    return modelos\n"
   ]
  },
  {
   "cell_type": "code",
   "execution_count": 88,
   "metadata": {},
   "outputs": [],
   "source": [
    "def criar_modelo_hibrido(X_train, y_train):\n",
    "    # Carregar modelos treinados\n",
    "    modelos = treinar_modelos(X_train, y_train)\n",
    "    modelos_carregados = {nome: pickle.load(open(f'./modelos/{nome}.pickle', 'rb')) for nome in modelos}\n",
    "\n",
    "    voting_clf = VotingClassifier(estimators=[(nome, modelo) for nome, modelo in modelos_carregados.items()], voting='soft')\n",
    "    voting_clf.fit(X_train, y_train)\n",
    "\n",
    "    # Salvando o modelo híbrido\n",
    "    modelo_hibrido_arquivo = './modelos/ModeloHibrido.pickle'\n",
    "    with open(modelo_hibrido_arquivo, 'wb') as f:\n",
    "        pickle.dump(voting_clf, f)\n",
    "    \n",
    "    return voting_clf\n"
   ]
  },
  {
   "cell_type": "code",
   "execution_count": 89,
   "metadata": {},
   "outputs": [],
   "source": [
    "def avaliar_modelos(X_test, y_test, modelos):\n",
    "    for nome, modelo_arquivo in modelos.items():\n",
    "        modelo = pickle.load(open(f'./modelos/{nome}.pickle', 'rb'))\n",
    "        predicoes = modelo.predict(X_test)\n",
    "        acuracia = accuracy_score(y_test, predicoes)\n",
    "        f1 = f1_score(y_test, predicoes, average='macro')\n",
    "        print(f'{nome} - Acurácia: {acuracia}, F1 Score: {f1}')\n"
   ]
  },
  {
   "cell_type": "code",
   "execution_count": 90,
   "metadata": {},
   "outputs": [],
   "source": [
    "def interface_interativa(dados):\n",
    "    ano_widget = widgets.IntSlider(value=2024, min=dados['ANO'].min(), max=dados['ANO'].max(), step=1, description='Ano:')\n",
    "    mes_widget = widgets.Dropdown(options=list(range(1, 13)), value=2, description='Mês:')\n",
    "    regiao_widget = widgets.Dropdown(options=sorted(dados['CO_REGIONA'].unique()), description='Região:')\n",
    "    modelo_widget = widgets.Dropdown(options=os.listdir('./modelos'), description='Modelo:')\n",
    "    \n",
    "    display(ano_widget, mes_widget, regiao_widget, modelo_widget)\n",
    "\n",
    "    def realizar_predicoes(b):\n",
    "        modelo_selecionado = modelo_widget.value\n",
    "        caminho_modelo = os.path.join('./modelos', modelo_selecionado)\n",
    "        modelo = pickle.load(open(caminho_modelo, 'rb'))\n",
    "        \n",
    "        entrada_predicao = pd.DataFrame({'ANO': [ano_widget.value], 'MES': [mes_widget.value], 'CO_REGIONA': [regiao_widget.value]})\n",
    "        predicao = modelo.predict(entrada_predicao)\n",
    "        \n",
    "        with output_area:\n",
    "            output_area.clear_output()\n",
    "            print(f\"Predição para a região {regiao_widget.value} no mês {mes_widget.value} de {ano_widget.value}: {predicao[0]}\")\n",
    "    \n",
    "    predicao_botao = widgets.Button(description=\"Realizar Predição\")\n",
    "    output_area = widgets.Output()\n",
    "    predicao_botao.on_click(realizar_predicoes)\n",
    "    display(predicao_botao, output_area)"
   ]
  },
  {
   "cell_type": "code",
   "execution_count": 91,
   "metadata": {},
   "outputs": [],
   "source": [
    "dados = carregar_dados()\n",
    "dados_tratados = tratar_dados(dados)\n",
    "previsores, alvo = preparar_previsores_alvo(dados_tratados)\n",
    "previsores_escalados = escalonar_previsores(previsores)\n",
    "X_train, X_test, y_train, y_test = dividir_treino_teste(previsores_escalados, alvo)\n",
    "modelos = treinar_modelos(X_train, y_train)\n",
    "modelo_hibrido = criar_modelo_hibrido(X_train, y_train)\n",
    "avaliar_modelos(X_test, y_test, modelos)\n",
    "interface_interativa(dados_tratados)"
   ]
  }
 ],
 "metadata": {
  "kernelspec": {
   "display_name": "Python 3",
   "language": "python",
   "name": "python3"
  },
  "language_info": {
   "codemirror_mode": {
    "name": "ipython",
    "version": 3
   },
   "file_extension": ".py",
   "mimetype": "text/x-python",
   "name": "python",
   "nbconvert_exporter": "python",
   "pygments_lexer": "ipython3",
   "version": "3.10.9"
  }
 },
 "nbformat": 4,
 "nbformat_minor": 2
}
