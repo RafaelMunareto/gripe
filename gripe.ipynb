{
 "cells": [
  {
   "cell_type": "markdown",
   "metadata": {},
   "source": [
    "### Biblioteca"
   ]
  },
  {
   "cell_type": "code",
   "execution_count": 27,
   "metadata": {},
   "outputs": [],
   "source": [
    "import pandas as pd\n",
    "from sklearn.preprocessing import StandardScaler"
   ]
  },
  {
   "cell_type": "markdown",
   "metadata": {},
   "source": [
    "### Coleta e tratamento dos dados"
   ]
  },
  {
   "cell_type": "code",
   "execution_count": 14,
   "metadata": {},
   "outputs": [
    {
     "name": "stderr",
     "output_type": "stream",
     "text": [
      "/var/folders/z3/2x5_0s3j31zdf3c9g85v3rbc0000gn/T/ipykernel_21832/152469830.py:1: DtypeWarning: Columns (15,59,61,62,63,91,93,105,107,114,116,117,118,122,143) have mixed types. Specify dtype option on import or set low_memory=False.\n",
      "  dados_2021 = pd.read_csv('dados/gripe_2021.csv', sep=';', encoding='ISO-8859-1')\n",
      "/var/folders/z3/2x5_0s3j31zdf3c9g85v3rbc0000gn/T/ipykernel_21832/152469830.py:2: DtypeWarning: Columns (15,53,59,61,62,63,91,93,120,122,143,171) have mixed types. Specify dtype option on import or set low_memory=False.\n",
      "  dados_2022 = pd.read_csv('dados/gripe_2022.csv', sep=';', encoding='ISO-8859-1')\n",
      "/var/folders/z3/2x5_0s3j31zdf3c9g85v3rbc0000gn/T/ipykernel_21832/152469830.py:3: DtypeWarning: Columns (15,18,20,23,53,59,61,63,72,74,79,91,93,109,130,175,178) have mixed types. Specify dtype option on import or set low_memory=False.\n",
      "  dados_2023 = pd.read_csv('dados/gripe_2023.csv', sep=';', encoding='ISO-8859-1')\n"
     ]
    }
   ],
   "source": [
    "\n",
    "dados_2021 = pd.read_csv('dados/gripe_2021.csv', sep=';', encoding='ISO-8859-1')\n",
    "dados_2022 = pd.read_csv('dados/gripe_2022.csv', sep=';', encoding='ISO-8859-1')\n",
    "dados_2023 = pd.read_csv('dados/gripe_2023.csv', sep=';', encoding='ISO-8859-1')\n",
    "\n",
    "dados = pd.concat([dados_2021, dados_2022, dados_2023])\n"
   ]
  },
  {
   "cell_type": "code",
   "execution_count": 15,
   "metadata": {},
   "outputs": [
    {
     "data": {
      "text/plain": [
       "Index(['DT_NOTIFIC', 'SEM_NOT', 'DT_SIN_PRI', 'SEM_PRI', 'SG_UF_NOT',\n",
       "       'ID_REGIONA', 'CO_REGIONA', 'ID_MUNICIP', 'CO_MUN_NOT', 'ID_UNIDADE',\n",
       "       ...\n",
       "       'VG_ENC', 'VG_REINF', 'REINF', 'FAB_ADIC', 'LOT_RE_BI', 'FAB_RE_BI',\n",
       "       'DOSE_ADIC', 'DOS_RE_BI', 'LOTE_ADIC', 'TABAG'],\n",
       "      dtype='object', length=190)"
      ]
     },
     "execution_count": 15,
     "metadata": {},
     "output_type": "execute_result"
    }
   ],
   "source": [
    "dados.columns"
   ]
  },
  {
   "cell_type": "code",
   "execution_count": 16,
   "metadata": {},
   "outputs": [
    {
     "data": {
      "text/plain": [
       "DT_NOTIFIC          0\n",
       "SEM_NOT             0\n",
       "DT_SIN_PRI          0\n",
       "SEM_PRI             0\n",
       "SG_UF_NOT           0\n",
       "               ...   \n",
       "FAB_RE_BI     2545509\n",
       "DOSE_ADIC     2561067\n",
       "DOS_RE_BI     2545495\n",
       "LOTE_ADIC     2561129\n",
       "TABAG         2566070\n",
       "Length: 190, dtype: int64"
      ]
     },
     "execution_count": 16,
     "metadata": {},
     "output_type": "execute_result"
    }
   ],
   "source": [
    "# Verificando nulos e inválidos\n",
    "dados.isna().sum()"
   ]
  },
  {
   "cell_type": "code",
   "execution_count": 18,
   "metadata": {},
   "outputs": [],
   "source": [
    "# Concatenando os dados\n",
    "dados = pd.concat([dados_2021, dados_2022, dados_2023])\n",
    "\n",
    "# Mantendo apenas as colunas relevantes\n",
    "dados = dados[['DT_NOTIFIC', 'SG_UF_NOT', 'CO_REGIONA', 'CO_MUN_NOT', 'CS_SEXO', 'DT_NASC', 'NU_IDADE_N', 'CS_GESTANT', 'CS_RACA']]\n",
    "\n",
    "# Ajustando a conversão de datas\n",
    "dados['DT_NOTIFIC'] = pd.to_datetime(dados['DT_NOTIFIC'], format='%d/%m/%Y')\n",
    "dados['DT_NASC'] = pd.to_datetime(dados['DT_NASC'], format='%d/%m/%Y', errors='coerce')  # usando errors='coerce' para lidar com qualquer dado incorreto\n",
    "\n",
    "# Criando metadados\n",
    "dados['ANO'] = dados['DT_NOTIFIC'].dt.year\n",
    "dados['MES'] = dados['DT_NOTIFIC'].dt.month\n",
    "\n",
    "# Convertendo variáveis categóricas em numéricas conforme necessário\n",
    "dados = pd.get_dummies(dados, columns=['SG_UF_NOT', 'CS_SEXO', 'CS_GESTANT', 'CS_RACA'])"
   ]
  },
  {
   "cell_type": "code",
   "execution_count": 22,
   "metadata": {},
   "outputs": [
    {
     "name": "stdout",
     "output_type": "stream",
     "text": [
      "DT_NOTIFIC      0\n",
      "CO_REGIONA      0\n",
      "CO_MUN_NOT      0\n",
      "DT_NASC         0\n",
      "NU_IDADE_N      0\n",
      "ANO             0\n",
      "MES             0\n",
      "SG_UF_NOT_AC    0\n",
      "SG_UF_NOT_AL    0\n",
      "SG_UF_NOT_AM    0\n",
      "SG_UF_NOT_AP    0\n",
      "SG_UF_NOT_BA    0\n",
      "SG_UF_NOT_CE    0\n",
      "SG_UF_NOT_DF    0\n",
      "SG_UF_NOT_ES    0\n",
      "SG_UF_NOT_GO    0\n",
      "SG_UF_NOT_MA    0\n",
      "SG_UF_NOT_MG    0\n",
      "SG_UF_NOT_MS    0\n",
      "SG_UF_NOT_MT    0\n",
      "SG_UF_NOT_PA    0\n",
      "SG_UF_NOT_PB    0\n",
      "SG_UF_NOT_PE    0\n",
      "SG_UF_NOT_PI    0\n",
      "SG_UF_NOT_PR    0\n",
      "SG_UF_NOT_RJ    0\n",
      "SG_UF_NOT_RN    0\n",
      "SG_UF_NOT_RO    0\n",
      "SG_UF_NOT_RR    0\n",
      "SG_UF_NOT_RS    0\n",
      "SG_UF_NOT_SC    0\n",
      "SG_UF_NOT_SE    0\n",
      "SG_UF_NOT_SP    0\n",
      "SG_UF_NOT_TO    0\n",
      "CS_SEXO_1       0\n",
      "CS_SEXO_F       0\n",
      "CS_SEXO_I       0\n",
      "CS_SEXO_M       0\n",
      "CS_GESTANT_0    0\n",
      "CS_GESTANT_1    0\n",
      "CS_GESTANT_2    0\n",
      "CS_GESTANT_3    0\n",
      "CS_GESTANT_4    0\n",
      "CS_GESTANT_5    0\n",
      "CS_GESTANT_6    0\n",
      "CS_GESTANT_9    0\n",
      "CS_RACA_1.0     0\n",
      "CS_RACA_2.0     0\n",
      "CS_RACA_3.0     0\n",
      "CS_RACA_4.0     0\n",
      "CS_RACA_5.0     0\n",
      "CS_RACA_9.0     0\n",
      "dtype: int64\n"
     ]
    }
   ],
   "source": [
    "# Removendo linhas onde CO_REGIONA é nulo\n",
    "dados = dados.dropna(subset=['CO_REGIONA'])\n",
    "dados = dados.dropna(subset=['DT_NASC'])\n",
    "print(dados.isnull().sum())"
   ]
  },
  {
   "cell_type": "markdown",
   "metadata": {},
   "source": [
    "### Separando previsores e alvo"
   ]
  },
  {
   "cell_type": "code",
   "execution_count": 24,
   "metadata": {},
   "outputs": [],
   "source": [
    "# Para este exemplo, vou considerar apenas a contagem de casos, mas você precisa ajustar para o seu caso específico\n",
    "dados_agregados = dados.groupby(['ANO', 'MES', 'CO_REGIONA']).size().reset_index(name='CASOS')\n",
    "previsores = dados_agregados.drop('CASOS', axis=1)\n",
    "alvo = dados_agregados['CASOS']"
   ]
  },
  {
   "cell_type": "markdown",
   "metadata": {},
   "source": [
    "### Escalonando"
   ]
  },
  {
   "cell_type": "code",
   "execution_count": 26,
   "metadata": {},
   "outputs": [
    {
     "ename": "NameError",
     "evalue": "name 'StandardScaler' is not defined",
     "output_type": "error",
     "traceback": [
      "\u001b[0;31m---------------------------------------------------------------------------\u001b[0m",
      "\u001b[0;31mNameError\u001b[0m                                 Traceback (most recent call last)",
      "Cell \u001b[0;32mIn[26], line 1\u001b[0m\n\u001b[0;32m----> 1\u001b[0m scaler \u001b[38;5;241m=\u001b[39m \u001b[43mStandardScaler\u001b[49m()\n\u001b[1;32m      2\u001b[0m previsores \u001b[38;5;241m=\u001b[39m scaler\u001b[38;5;241m.\u001b[39mfit_transform(previsores)\n",
      "\u001b[0;31mNameError\u001b[0m: name 'StandardScaler' is not defined"
     ]
    }
   ],
   "source": [
    "scaler = StandardScaler()\n",
    "previsores = scaler.fit_transform(previsores)"
   ]
  }
 ],
 "metadata": {
  "kernelspec": {
   "display_name": "Python 3",
   "language": "python",
   "name": "python3"
  },
  "language_info": {
   "codemirror_mode": {
    "name": "ipython",
    "version": 3
   },
   "file_extension": ".py",
   "mimetype": "text/x-python",
   "name": "python",
   "nbconvert_exporter": "python",
   "pygments_lexer": "ipython3",
   "version": "3.10.9"
  }
 },
 "nbformat": 4,
 "nbformat_minor": 2
}
